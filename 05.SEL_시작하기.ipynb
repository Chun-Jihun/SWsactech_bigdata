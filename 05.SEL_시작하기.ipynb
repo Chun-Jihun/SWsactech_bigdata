{
 "cells": [
  {
   "cell_type": "code",
   "execution_count": 10,
   "metadata": {},
   "outputs": [
    {
     "name": "stderr",
     "output_type": "stream",
     "text": [
      "<ipython-input-10-b544f8262faf>:4: DeprecationWarning: executable_path has been deprecated, please pass in a Service object\n",
      "  driver = webdriver.Chrome('C:/Users/wjswl/gwsac_bigdata/chromedriver')\n"
     ]
    },
    {
     "data": {
      "text/plain": [
       "<selenium.webdriver.chrome.webdriver.WebDriver (session=\"d183e66c0146c2892759e64e83c12824\")>"
      ]
     },
     "execution_count": 10,
     "metadata": {},
     "output_type": "execute_result"
    }
   ],
   "source": [
    "from selenium import webdriver\n",
    "from selenium.webdriver.common.keys import Keys\n",
    "\n",
    "driver = webdriver.Chrome('C:/Users/wjswl/gwsac_bigdata/chromedriver')\n",
    "driver"
   ]
  },
  {
   "cell_type": "code",
   "execution_count": 11,
   "metadata": {},
   "outputs": [],
   "source": [
    "url = 'http://www.google.com/ncr'\n",
    "driver.get(url)"
   ]
  },
  {
   "cell_type": "code",
   "execution_count": 13,
   "metadata": {},
   "outputs": [],
   "source": [
    "from selenium.webdriver.common.by import By\n",
    "target = driver.find_element(By.CLASS_NAME, 'gLFyf.gsfi')\n",
    "target.send_keys('스파크')"
   ]
  },
  {
   "cell_type": "code",
   "execution_count": 14,
   "metadata": {},
   "outputs": [],
   "source": [
    "target.send_keys(Keys.ENTER)"
   ]
  },
  {
   "cell_type": "code",
   "execution_count": 15,
   "metadata": {},
   "outputs": [],
   "source": [
    "driver.quit()"
   ]
  },
  {
   "cell_type": "code",
   "execution_count": 17,
   "metadata": {},
   "outputs": [
    {
     "name": "stderr",
     "output_type": "stream",
     "text": [
      "<ipython-input-17-ca971496b0c6>:2: DeprecationWarning: executable_path has been deprecated, please pass in a Service object\n",
      "  driver = webdriver.Chrome('C:/Users/wjswl/gwsac_bigdata/chromedriver')\n"
     ]
    }
   ],
   "source": [
    "url = 'http://unico2013.dothome.co.kr/crawling/exercise_css.html'\n",
    "driver = webdriver.Chrome('C:/Users/wjswl/gwsac_bigdata/chromedriver')\n",
    "driver.get(url)"
   ]
  },
  {
   "cell_type": "code",
   "execution_count": 19,
   "metadata": {},
   "outputs": [
    {
     "data": {
      "text/plain": [
       "'CSS 선택자 학습'"
      ]
     },
     "execution_count": 19,
     "metadata": {},
     "output_type": "execute_result"
    }
   ],
   "source": [
    "element = driver.find_element(By.TAG_NAME,'h1')\n",
    "element.text"
   ]
  },
  {
   "cell_type": "code",
   "execution_count": 20,
   "metadata": {},
   "outputs": [
    {
     "data": {
      "text/plain": [
       "'교육과정 소개'"
      ]
     },
     "execution_count": 20,
     "metadata": {},
     "output_type": "execute_result"
    }
   ],
   "source": [
    "element = driver.find_element(By.TAG_NAME,'h2')\n",
    "element.text"
   ]
  },
  {
   "cell_type": "code",
   "execution_count": 25,
   "metadata": {},
   "outputs": [
    {
     "data": {
      "text/plain": [
       "[<selenium.webdriver.remote.webelement.WebElement (session=\"0c7755354d19ca27d0ef18b2b9c6f8a1\", element=\"638f96b0-145e-49e7-88d1-8ef7a45e7d6d\")>,\n",
       " <selenium.webdriver.remote.webelement.WebElement (session=\"0c7755354d19ca27d0ef18b2b9c6f8a1\", element=\"7713cffb-b795-4ad5-a4ad-2ae67e1c9330\")>,\n",
       " <selenium.webdriver.remote.webelement.WebElement (session=\"0c7755354d19ca27d0ef18b2b9c6f8a1\", element=\"051d2233-98ec-4806-99f3-1cd74b08dbf2\")>]"
      ]
     },
     "execution_count": 25,
     "metadata": {},
     "output_type": "execute_result"
    }
   ],
   "source": [
    "element = driver.find_elements(By.TAG_NAME,'h2')\n",
    "element"
   ]
  },
  {
   "cell_type": "code",
   "execution_count": 27,
   "metadata": {},
   "outputs": [
    {
     "name": "stdout",
     "output_type": "stream",
     "text": [
      "h2 : 교육과정 소개\n",
      "h2 : 웹 클라이언트 기술\n",
      "h2 : 학습 순서(수집)\n"
     ]
    }
   ],
   "source": [
    "for tagName in element:\n",
    "    print(tagName.tag_name, ':', tagName.text)"
   ]
  },
  {
   "cell_type": "code",
   "execution_count": 28,
   "metadata": {},
   "outputs": [
    {
     "data": {
      "text/plain": [
       "[<selenium.webdriver.remote.webelement.WebElement (session=\"0c7755354d19ca27d0ef18b2b9c6f8a1\", element=\"7713cffb-b795-4ad5-a4ad-2ae67e1c9330\")>,\n",
       " <selenium.webdriver.remote.webelement.WebElement (session=\"0c7755354d19ca27d0ef18b2b9c6f8a1\", element=\"051d2233-98ec-4806-99f3-1cd74b08dbf2\")>]"
      ]
     },
     "execution_count": 28,
     "metadata": {},
     "output_type": "execute_result"
    }
   ],
   "source": [
    "element = driver.find_elements(By.CLASS_NAME,'subtitle')\n",
    "element"
   ]
  },
  {
   "cell_type": "code",
   "execution_count": 30,
   "metadata": {},
   "outputs": [
    {
     "name": "stdout",
     "output_type": "stream",
     "text": [
      "7713cffb-b795-4ad5-a4ad-2ae67e1c9330 : h2 : 웹 클라이언트 기술\n",
      "051d2233-98ec-4806-99f3-1cd74b08dbf2 : h2 : 학습 순서(수집)\n"
     ]
    }
   ],
   "source": [
    "for tagName in element:\n",
    "    print(tagName.id,':',tagName.tag_name,':',tagName.text)"
   ]
  },
  {
   "cell_type": "code",
   "execution_count": 33,
   "metadata": {},
   "outputs": [
    {
     "data": {
      "text/plain": [
       "[<selenium.webdriver.remote.webelement.WebElement (session=\"0c7755354d19ca27d0ef18b2b9c6f8a1\", element=\"638f96b0-145e-49e7-88d1-8ef7a45e7d6d\")>]"
      ]
     },
     "execution_count": 33,
     "metadata": {},
     "output_type": "execute_result"
    }
   ],
   "source": [
    "element = driver.find_elements(By.ID,'f_subtitle')\n",
    "element"
   ]
  },
  {
   "cell_type": "code",
   "execution_count": 38,
   "metadata": {},
   "outputs": [
    {
     "data": {
      "text/plain": [
       "[<selenium.webdriver.remote.webelement.WebElement (session=\"0c7755354d19ca27d0ef18b2b9c6f8a1\", element=\"638f96b0-145e-49e7-88d1-8ef7a45e7d6d\")>]"
      ]
     },
     "execution_count": 38,
     "metadata": {},
     "output_type": "execute_result"
    }
   ],
   "source": [
    "#ID나 \n",
    "element = driver.find_elements(By.CSS_SELECTOR,'#f_subtitle')\n",
    "element"
   ]
  },
  {
   "cell_type": "code",
   "execution_count": 39,
   "metadata": {},
   "outputs": [
    {
     "data": {
      "text/plain": [
       "[<selenium.webdriver.remote.webelement.WebElement (session=\"0c7755354d19ca27d0ef18b2b9c6f8a1\", element=\"638f96b0-145e-49e7-88d1-8ef7a45e7d6d\")>]"
      ]
     },
     "execution_count": 39,
     "metadata": {},
     "output_type": "execute_result"
    }
   ],
   "source": [
    "element = driver.find_elements(By.CSS_SELECTOR,'section>h2')\n",
    "element"
   ]
  },
  {
   "cell_type": "code",
   "execution_count": 42,
   "metadata": {},
   "outputs": [
    {
     "data": {
      "text/plain": [
       "[<selenium.webdriver.remote.webelement.WebElement (session=\"0c7755354d19ca27d0ef18b2b9c6f8a1\", element=\"f2a3d45f-5bdd-4e8c-85f2-9ad6b3f54b34\")>,\n",
       " <selenium.webdriver.remote.webelement.WebElement (session=\"0c7755354d19ca27d0ef18b2b9c6f8a1\", element=\"da4a803d-693a-4fc4-8372-cd2c19152daf\")>]"
      ]
     },
     "execution_count": 42,
     "metadata": {},
     "output_type": "execute_result"
    }
   ],
   "source": [
    "css_selector = driver.find_elements(By.CSS_SELECTOR, 'ul>li.atype')\n",
    "css_selector"
   ]
  },
  {
   "cell_type": "code",
   "execution_count": 43,
   "metadata": {},
   "outputs": [
    {
     "name": "stdout",
     "output_type": "stream",
     "text": [
      "f2a3d45f-5bdd-4e8c-85f2-9ad6b3f54b34 : li : CSS3\n",
      "da4a803d-693a-4fc4-8372-cd2c19152daf : li : Ajax\n"
     ]
    }
   ],
   "source": [
    "for tagName in css_selector:\n",
    "    print(tagName.id,':',tagName.tag_name,':',tagName.text)"
   ]
  },
  {
   "cell_type": "code",
   "execution_count": 44,
   "metadata": {},
   "outputs": [
    {
     "data": {
      "text/plain": [
       "<selenium.webdriver.remote.webelement.WebElement (session=\"0c7755354d19ca27d0ef18b2b9c6f8a1\", element=\"67d1fc01-fe01-4d94-b6b7-e57b7f556c2b\")>"
      ]
     },
     "execution_count": 44,
     "metadata": {},
     "output_type": "execute_result"
    }
   ],
   "source": [
    "xpath1 = driver.find_element(By.XPATH, '/html/body/section/div/img')\n",
    "xpath1"
   ]
  },
  {
   "cell_type": "code",
   "execution_count": 47,
   "metadata": {},
   "outputs": [
    {
     "data": {
      "text/plain": [
       "[<selenium.webdriver.remote.webelement.WebElement (session=\"0c7755354d19ca27d0ef18b2b9c6f8a1\", element=\"528e585d-277c-4b85-b741-3c05f4c0f73e\")>,\n",
       " <selenium.webdriver.remote.webelement.WebElement (session=\"0c7755354d19ca27d0ef18b2b9c6f8a1\", element=\"fe561a93-5cc8-4902-8c86-ec4796f6df0f\")>]"
      ]
     },
     "execution_count": 47,
     "metadata": {},
     "output_type": "execute_result"
    }
   ],
   "source": [
    "xpath2 = driver.find_elements(By.XPATH, '/html/body/header/nav/a')\n",
    "xpath2"
   ]
  }
 ],
 "metadata": {
  "kernelspec": {
   "display_name": "Python 3",
   "language": "python",
   "name": "python3"
  },
  "language_info": {
   "codemirror_mode": {
    "name": "ipython",
    "version": 3
   },
   "file_extension": ".py",
   "mimetype": "text/x-python",
   "name": "python",
   "nbconvert_exporter": "python",
   "pygments_lexer": "ipython3",
   "version": "3.8.5"
  }
 },
 "nbformat": 4,
 "nbformat_minor": 4
}
