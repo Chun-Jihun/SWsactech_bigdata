{
 "cells": [
  {
   "cell_type": "code",
   "execution_count": 32,
   "metadata": {},
   "outputs": [],
   "source": [
    "url = 'http://www.kma.go.kr/weather/forecast/mid-term-rss3.jsp?stnId=109'\n",
    "savefile = 'C:/Users/wjswl/gwsac_bigdata/forecast.xml'"
   ]
  },
  {
   "cell_type": "code",
   "execution_count": 33,
   "metadata": {},
   "outputs": [
    {
     "data": {
      "text/plain": [
       "('C:/Users/wjswl/gwsac_bigdata/forecast.xml',\n",
       " <http.client.HTTPMessage at 0x281ce936340>)"
      ]
     },
     "execution_count": 33,
     "metadata": {},
     "output_type": "execute_result"
    }
   ],
   "source": [
    "from bs4 import BeautifulSoup\n",
    "import urllib.request as req\n",
    "import io\n",
    "\n",
    "req.urlretrieve(url, savefile)\n"
   ]
  },
  {
   "cell_type": "code",
   "execution_count": 34,
   "metadata": {},
   "outputs": [],
   "source": [
    "xml = open(savefile,'r',encoding='utf-8').read()"
   ]
  },
  {
   "cell_type": "code",
   "execution_count": 35,
   "metadata": {},
   "outputs": [],
   "source": [
    "soup = BeautifulSoup(xml,'xml')"
   ]
  },
  {
   "cell_type": "code",
   "execution_count": 41,
   "metadata": {},
   "outputs": [
    {
     "data": {
      "text/plain": [
       "{'서울': ['0~10'],\n",
       " '인천': ['2~10'],\n",
       " '수원': ['1~11'],\n",
       " '파주': ['-3~10'],\n",
       " '이천': ['-1~11'],\n",
       " '평택': ['1~11'],\n",
       " '백령도': ['5~9'],\n",
       " '과천': ['-1~10'],\n",
       " '광명': ['2~10'],\n",
       " '강화': ['0~10'],\n",
       " '김포': ['0~10'],\n",
       " '시흥': ['0~10'],\n",
       " '안산': ['0~10'],\n",
       " '부천': ['1~9'],\n",
       " '의정부': ['-3~10'],\n",
       " '고양': ['-2~11'],\n",
       " '양주': ['-4~10'],\n",
       " '동두천': ['-2~11'],\n",
       " '연천': ['-4~8'],\n",
       " '포천': ['-3~10'],\n",
       " '가평': ['-4~13'],\n",
       " '구리': ['-1~10'],\n",
       " '남양주': ['-3~11'],\n",
       " '양평': ['-1~11'],\n",
       " '하남': ['0~11'],\n",
       " '안양': ['1~10'],\n",
       " '오산': ['0~9'],\n",
       " '화성': ['1~10'],\n",
       " '성남': ['-1~10'],\n",
       " '의왕': ['-1~9'],\n",
       " '군포': ['1~10'],\n",
       " '안성': ['-1~11'],\n",
       " '용인': ['-2~10'],\n",
       " '광주': ['-1~10'],\n",
       " '여주': ['-1~10']}"
      ]
     },
     "execution_count": 41,
     "metadata": {},
     "output_type": "execute_result"
    }
   ],
   "source": [
    "info = {}\n",
    "\n",
    "for location in soup.find_all('location'):\n",
    "    loc = location.find('city').string\n",
    "    min_w=location.find('tmn')\n",
    "    max_w = location.find_all('tmx')\n",
    "    weather = [a.string+\"~\"+b.string for a, b in zip(min_w, max_w)]\n",
    "    if not(loc in info):\n",
    "        info[loc]=[]\n",
    "    for data in weather:\n",
    "        info[loc].append(data)\n",
    "info"
   ]
  },
  {
   "cell_type": "code",
   "execution_count": 44,
   "metadata": {},
   "outputs": [
    {
     "data": {
      "text/plain": [
       "35"
      ]
     },
     "execution_count": 44,
     "metadata": {},
     "output_type": "execute_result"
    }
   ],
   "source": [
    "with open('C:/Users/wjswl/gwsac_bigdata/forecast.txt','wt',encoding='utf-8') as f:\n",
    "    for loc in info.keys():\n",
    "        f.write(str(loc)+'\\n')\n",
    "        for item in info[loc]:\n",
    "            f.write('\\t'+str(item)+'\\n')\n",
    "len(info)"
   ]
  },
  {
   "cell_type": "code",
   "execution_count": 52,
   "metadata": {},
   "outputs": [
    {
     "data": {
      "text/plain": [
       "'http://openapi.molit.go.kr/OpenAPI_ToolInstallPackage/service/rest/RTMSOBJSvc/getRTMSDataSvcAptTradeDev?LAWD_CD=42110&DEAL_YMD=202208&serviceKey=ZOJaRUpc9%2BASXmHK%2BgdHOVJWm2N5lqKIxpn%2FeKo7m%2FrPxhlItMRXm3dxXGfHDVMXjMaD0RC0X8R9gTZdoXEDYA%3D%3D'"
      ]
     },
     "execution_count": 52,
     "metadata": {},
     "output_type": "execute_result"
    }
   ],
   "source": [
    "lcd = '42110'\n",
    "date = '202208'\n",
    "skey = 'ZOJaRUpc9%2BASXmHK%2BgdHOVJWm2N5lqKIxpn%2FeKo7m%2FrPxhlItMRXm3dxXGfHDVMXjMaD0RC0X8R9gTZdoXEDYA%3D%3D'\n",
    "url = f'http://openapi.molit.go.kr/OpenAPI_ToolInstallPackage/service/rest/RTMSOBJSvc/getRTMSDataSvcAptTradeDev?LAWD_CD={lcd}&DEAL_YMD={date}&serviceKey={skey}'\n",
    "\n",
    "url"
   ]
  },
  {
   "cell_type": "code",
   "execution_count": 53,
   "metadata": {},
   "outputs": [
    {
     "data": {
      "text/plain": [
       "<?xml version=\"1.0\" encoding=\"utf-8\"?>\n",
       "<response><header><resultCode>00</resultCode><resultMsg>NORMAL SERVICE.</resultMsg></header><body><items><item><거래금액>     5,500</거래금액><거래유형>중개거래</거래유형><건축년도>1999</건축년도><년>2022</년><도로명>공지로200번길</도로명><도로명건물본번호코드>00013</도로명건물본번호코드><도로명건물부번호코드>00000</도로명건물부번호코드><도로명시군구코드>42110</도로명시군구코드><도로명일련번호코드>01</도로명일련번호코드><도로명지상지하코드>0</도로명지상지하코드><도로명코드>4454045</도로명코드><법정동> 효자동</법정동><법정동본번코드>0821</법정동본번코드><법정동부번코드>0000</법정동부번코드><법정동시군구코드>42110</법정동시군구코드><법정동읍면동코드>11200</법정동읍면동코드><법정동지번코드>1</법정동지번코드><아파트>동보</아파트><월>8</월><일>6</일><일련번호>42110-14</일련번호><전용면적>28.38</전용면적><중개사소재지>강원 춘천시</중개사소재지><지번>821</지번><지역코드>42110</지역코드><층>6</층><해제사유발생일> </해제사유발생일><해제여부> </해제여부></item><item><거래금액>     4,500</거래금액><거래유형>중개거래</거래유형><건축년도>1999</건축년도><년>2022</년><도로명>공지로200번길</도로명><도로명건물본번호코드>00013</도로명건물본번호코드><도로명건물부번호코드>00000</도로명건물부번호코드><도로명시군구코드>42110</도로명시군구코드><도로명일련번호코드>01</도로명일련번호코드><도로명지상지하코드>0</도로명지상지하코드><도로명코드>4454045</도로명코드><법정동> 효자동</법정동><법정동본번코드>0821</법정동본번코드><법정동부번코드>0000</법정동부번코드><법정동시군구코드>42110</법정동시군구코드><법정동읍면동코드>11200</법정동읍면동코드><법정동지번코드>1</법정동지번코드><아파트>동보</아파트><월>8</월><일>10</일><일련번호>42110-14</일련번호><전용면적>28.38</전용면적><중개사소재지>강원 춘천시</중개사소재지><지번>821</지번><지역코드>42110</지역코드><층>1</층><해제사유발생일> </해제사유발생일><해제여부> </해제여부></item><item><거래금액>     7,450</거래금액><거래유형>중개거래</거래유형><건축년도>1999</건축년도><년>2022</년><도로명>공지로200번길</도로명><도로명건물본번호코드>00013</도로명건물본번호코드><도로명건물부번호코드>00000</도로명건물부번호코드><도로명시군구코드>42110</도로명시군구코드><도로명일련번호코드>01</도로명일련번호코드><도로명지상지하코드>0</도로명지상지하코드><도로명코드>4454045</도로명코드><법정동> 효자동</법정동><법정동본번코드>0821</법정동본번코드><법정동부번코드>0000</법정동부번코드><법정동시군구코드>42110</법정동시군구코드><법정동읍면동코드>11200</법정동읍면동코드><법정동지번코드>1</법정동지번코드><아파트>동보</아파트><월>8</월><일>11</일><일련번호>42110-14</일련번호><전용면적>37.2</전용면적><중개사소재지>강원 춘천시</중개사소재지><지번>821</지번><지역코드>42110</지역코드><층>9</층><해제사유발생일> </해제사유발생일><해제여부> </해제여부></item><item><거래금액>    23,200</거래금액><거래유형>중개거래</거래유형><건축년도>2005</건축년도><년>2022</년><도로명>공지로317번길</도로명><도로명건물본번호코드>00011</도로명건물본번호코드><도로명건물부번호코드>00000</도로명건물부번호코드><도로명시군구코드>42110</도로명시군구코드><도로명일련번호코드>01</도로명일련번호코드><도로명지상지하코드>0</도로명지상지하코드><도로명코드>4454053</도로명코드><법정동> 효자동</법정동><법정동본번코드>0701</법정동본번코드><법정동부번코드>0000</법정동부번코드><법정동시군구코드>42110</법정동시군구코드><법정동읍면동코드>11200</법정동읍면동코드><법정동지번코드>1</법정동지번코드><아파트>내안愛양우</아파트><월>8</월><일>17</일><일련번호>42110-278</일련번호><전용면적>84.984</전용면적><중개사소재지>강원 춘천시</중개사소재지><지번>701</지번><지역코드>42110</지역코드><층>3</층><해제사유발생일> </해제사유발생일><해제여부> </해제여부></item><item><거래금액>     6,500</거래금액><거래유형>중개거래</거래유형><건축년도>1997</건축년도><년>2022</년><도로명>백령로75번길</도로명><도로명건물본번호코드>00007</도로명건물본번호코드><도로명건물부번호코드>00000</도로명건물부번호코드><도로명시군구코드>42110</도로명시군구코드><도로명일련번호코드>01</도로명일련번호코드><도로명지상지하코드>0</도로명지상지하코드><도로명코드>4454267</도로명코드><법정동> 효자동</법정동><법정동본번코드>0820</법정동본번코드><법정동부번코드>0000</법정동부번코드><법정동시군구코드>42110</법정동시군구코드><법정동읍면동코드>11200</법정동읍면동코드><법정동지번코드>1</법정동지번코드><아파트>신아</아파트><월>8</월><일>24</일><일련번호>42110-84</일련번호><전용면적>32.16</전용면적><중개사소재지>강원 춘천시</중개사소재지><지번>820</지번><지역코드>42110</지역코드><층>4</층><해제사유발생일> </해제사유발생일><해제여부> </해제여부></item><item><거래금액>    37,000</거래금액><거래유형>중개거래</거래유형><건축년도>2014</건축년도><년>2022</년><도로명>춘천로</도로명><도로명건물본번호코드>00120</도로명건물본번호코드><도로명건물부번호코드>00000</도로명건물부번호코드><도로명시군구코드>42110</도로명시군구코드><도로명일련번호코드>03</도로명일련번호코드><도로명지상지하코드>0</도로명지상지하코드><도로명코드>3218037</도로명코드><법정동> 효자동</법정동><법정동본번코드>0822</법정동본번코드><법정동부번코드>0000</법정동부번코드><법정동시군구코드>42110</법정동시군구코드><법정동읍면동코드>11200</법정동읍면동코드><법정동지번코드>1</법정동지번코드><아파트>현진에버빌3차</아파트><월>8</월><일>25</일><일련번호>42110-368</일련번호><전용면적>84.914</전용면적><중개사소재지>강원 춘천시</중개사소재지><지번>822</지번><지역코드>42110</지역코드><층>14</층><해제사유발생일> </해제사유발생일><해제여부> </해제여부></item><item><거래금액>     6,150</거래금액><거래유형>중개거래</거래유형><건축년도>1999</건축년도><년>2022</년><도로명>공지로200번길</도로명><도로명건물본번호코드>00013</도로명건물본번호코드><도로명건물부번호코드>00000</도로명건물부번호코드><도로명시군구코드>42110</도로명시군구코드><도로명일련번호코드>01</도로명일련번호코드><도로명지상지하코드>0</도로명지상지하코드><도로명코드>4454045</도로명코드><법정동> 효자동</법정동><법정동본번코드>0821</법정동본번코드><법정동부번코드>0000</법정동부번코드><법정동시군구코드>42110</법정동시군구코드><법정동읍면동코드>11200</법정동읍면동코드><법정동지번코드>1</법정동지번코드><아파트>동보</아파트><월>8</월><일>26</일><일련번호>42110-14</일련번호><전용면적>28.38</전용면적><중개사소재지>강원 춘천시</중개사소재지><지번>821</지번><지역코드>42110</지역코드><층>12</층><해제사유발생일> </해제사유발생일><해제여부> </해제여부></item><item><거래금액>    25,000</거래금액><거래유형>직거래</거래유형><건축년도>2019</건축년도><년>2022</년><도로명>공지로218번길</도로명><도로명건물본번호코드>00026</도로명건물본번호코드><도로명건물부번호코드>00000</도로명건물부번호코드><도로명시군구코드>42110</도로명시군구코드><도로명일련번호코드>00</도로명일련번호코드><도로명지상지하코드>0</도로명지상지하코드><도로명코드>4454046</도로명코드><법정동> 효자동</법정동><법정동본번코드>0823</법정동본번코드><법정동부번코드>0000</법정동부번코드><법정동시군구코드>42110</법정동시군구코드><법정동읍면동코드>11200</법정동읍면동코드><법정동지번코드>1</법정동지번코드><아파트>효자코아루웰라움</아파트><월>8</월><일>26</일><일련번호>42110-390</일련번호><전용면적>71.0827</전용면적><중개사소재지> </중개사소재지><지번>823</지번><지역코드>42110</지역코드><층>5</층><해제사유발생일> </해제사유발생일><해제여부> </해제여부></item><item><거래금액>    35,300</거래금액><거래유형>중개거래</거래유형><건축년도>2014</건축년도><년>2022</년><도로명>춘천로</도로명><도로명건물본번호코드>00120</도로명건물본번호코드><도로명건물부번호코드>00000</도로명건물부번호코드><도로명시군구코드>42110</도로명시군구코드><도로명일련번호코드>03</도로명일련번호코드><도로명지상지하코드>0</도로명지상지하코드><도로명코드>3218037</도로명코드><법정동> 효자동</법정동><법정동본번코드>0822</법정동본번코드><법정동부번코드>0000</법정동부번코드><법정동시군구코드>42110</법정동시군구코드><법정동읍면동코드>11200</법정동읍면동코드><법정동지번코드>1</법정동지번코드><아파트>현진에버빌3차</아파트><월>8</월><일>26</일><일련번호>42110-368</일련번호><전용면적>84.954</전용면적><중개사소재지>강원 춘천시</중개사소재지><지번>822</지번><지역코드>42110</지역코드><층>4</층><해제사유발생일> </해제사유발생일><해제여부> </해제여부></item><item><거래금액>     6,500</거래금액><거래유형>중개거래</거래유형><건축년도>1997</건축년도><년>2022</년><도로명>백령로75번길</도로명><도로명건물본번호코드>00007</도로명건물본번호코드><도로명건물부번호코드>00000</도로명건물부번호코드><도로명시군구코드>42110</도로명시군구코드><도로명일련번호코드>01</도로명일련번호코드><도로명지상지하코드>0</도로명지상지하코드><도로명코드>4454267</도로명코드><법정동> 효자동</법정동><법정동본번코드>0820</법정동본번코드><법정동부번코드>0000</법정동부번코드><법정동시군구코드>42110</법정동시군구코드><법정동읍면동코드>11200</법정동읍면동코드><법정동지번코드>1</법정동지번코드><아파트>신아</아파트><월>8</월><일>26</일><일련번호>42110-84</일련번호><전용면적>32.16</전용면적><중개사소재지>강원 춘천시</중개사소재지><지번>820</지번><지역코드>42110</지역코드><층>4</층><해제사유발생일>22.09.20</해제사유발생일><해제여부>O</해제여부></item></items><numOfRows>10</numOfRows><pageNo>1</pageNo><totalCount>180</totalCount></body></response>"
      ]
     },
     "execution_count": 53,
     "metadata": {},
     "output_type": "execute_result"
    }
   ],
   "source": [
    "import requests\n",
    "from bs4 import BeautifulSoup\n",
    "\n",
    "res = requests.get(url)\n",
    "c_data = BeautifulSoup(res.text,'xml')\n",
    "c_data"
   ]
  },
  {
   "cell_type": "code",
   "execution_count": 54,
   "metadata": {},
   "outputs": [],
   "source": [
    "rows = c_data.find_all('item')"
   ]
  },
  {
   "cell_type": "code",
   "execution_count": 66,
   "metadata": {},
   "outputs": [
    {
     "data": {
      "text/plain": [
       "[['     5,500',\n",
       "  '중개거래',\n",
       "  '1999',\n",
       "  '2022',\n",
       "  '공지로200번길',\n",
       "  '00013',\n",
       "  '00000',\n",
       "  '42110',\n",
       "  '01',\n",
       "  '0',\n",
       "  '4454045',\n",
       "  ' 효자동',\n",
       "  '0821',\n",
       "  '0000',\n",
       "  '42110',\n",
       "  '11200',\n",
       "  '1',\n",
       "  '동보',\n",
       "  '8',\n",
       "  '6',\n",
       "  '42110-14',\n",
       "  '28.38',\n",
       "  '강원 춘천시',\n",
       "  '821',\n",
       "  '42110',\n",
       "  '6',\n",
       "  ' ',\n",
       "  ' ']]"
      ]
     },
     "execution_count": 66,
     "metadata": {},
     "output_type": "execute_result"
    }
   ],
   "source": [
    "rowcnt = 0\n",
    "dlist=[]  #전체행저장리스트\n",
    "clist= []  #1줄\n",
    "colnamelist = [] #컬럼이름\n",
    "\n",
    "for eachrow in rows:\n",
    "    collist = eachrow.find_all()\n",
    "    #print('***', collist)\n",
    "    for eachcol in collist :\n",
    "        if (rowcnt == 0):\n",
    "            colnamelist.append(eachcol.name)\n",
    "        clist.append(eachcol.text)\n",
    "    rowcnt += 1\n",
    "    dlist.append(clist)\n",
    "    clist = []\n",
    "    \n",
    "dlist[:1]"
   ]
  },
  {
   "cell_type": "code",
   "execution_count": 67,
   "metadata": {},
   "outputs": [
    {
     "data": {
      "text/plain": [
       "list"
      ]
     },
     "execution_count": 67,
     "metadata": {},
     "output_type": "execute_result"
    }
   ],
   "source": [
    "type(dlist)"
   ]
  },
  {
   "cell_type": "code",
   "execution_count": 68,
   "metadata": {},
   "outputs": [
    {
     "data": {
      "text/plain": [
       "pandas.core.frame.DataFrame"
      ]
     },
     "execution_count": 68,
     "metadata": {},
     "output_type": "execute_result"
    }
   ],
   "source": [
    "import pandas as pd\n",
    "\n",
    "rDF=pd.DataFrame(dlist)\n",
    "type(rDF)"
   ]
  },
  {
   "cell_type": "code",
   "execution_count": 69,
   "metadata": {},
   "outputs": [
    {
     "data": {
      "text/html": [
       "<div>\n",
       "<style scoped>\n",
       "    .dataframe tbody tr th:only-of-type {\n",
       "        vertical-align: middle;\n",
       "    }\n",
       "\n",
       "    .dataframe tbody tr th {\n",
       "        vertical-align: top;\n",
       "    }\n",
       "\n",
       "    .dataframe thead th {\n",
       "        text-align: right;\n",
       "    }\n",
       "</style>\n",
       "<table border=\"1\" class=\"dataframe\">\n",
       "  <thead>\n",
       "    <tr style=\"text-align: right;\">\n",
       "      <th></th>\n",
       "      <th>0</th>\n",
       "      <th>1</th>\n",
       "      <th>2</th>\n",
       "      <th>3</th>\n",
       "      <th>4</th>\n",
       "      <th>5</th>\n",
       "      <th>6</th>\n",
       "      <th>7</th>\n",
       "      <th>8</th>\n",
       "      <th>9</th>\n",
       "      <th>...</th>\n",
       "      <th>18</th>\n",
       "      <th>19</th>\n",
       "      <th>20</th>\n",
       "      <th>21</th>\n",
       "      <th>22</th>\n",
       "      <th>23</th>\n",
       "      <th>24</th>\n",
       "      <th>25</th>\n",
       "      <th>26</th>\n",
       "      <th>27</th>\n",
       "    </tr>\n",
       "  </thead>\n",
       "  <tbody>\n",
       "    <tr>\n",
       "      <th>0</th>\n",
       "      <td>5,500</td>\n",
       "      <td>중개거래</td>\n",
       "      <td>1999</td>\n",
       "      <td>2022</td>\n",
       "      <td>공지로200번길</td>\n",
       "      <td>00013</td>\n",
       "      <td>00000</td>\n",
       "      <td>42110</td>\n",
       "      <td>01</td>\n",
       "      <td>0</td>\n",
       "      <td>...</td>\n",
       "      <td>8</td>\n",
       "      <td>6</td>\n",
       "      <td>42110-14</td>\n",
       "      <td>28.38</td>\n",
       "      <td>강원 춘천시</td>\n",
       "      <td>821</td>\n",
       "      <td>42110</td>\n",
       "      <td>6</td>\n",
       "      <td></td>\n",
       "      <td></td>\n",
       "    </tr>\n",
       "    <tr>\n",
       "      <th>1</th>\n",
       "      <td>4,500</td>\n",
       "      <td>중개거래</td>\n",
       "      <td>1999</td>\n",
       "      <td>2022</td>\n",
       "      <td>공지로200번길</td>\n",
       "      <td>00013</td>\n",
       "      <td>00000</td>\n",
       "      <td>42110</td>\n",
       "      <td>01</td>\n",
       "      <td>0</td>\n",
       "      <td>...</td>\n",
       "      <td>8</td>\n",
       "      <td>10</td>\n",
       "      <td>42110-14</td>\n",
       "      <td>28.38</td>\n",
       "      <td>강원 춘천시</td>\n",
       "      <td>821</td>\n",
       "      <td>42110</td>\n",
       "      <td>1</td>\n",
       "      <td></td>\n",
       "      <td></td>\n",
       "    </tr>\n",
       "    <tr>\n",
       "      <th>2</th>\n",
       "      <td>7,450</td>\n",
       "      <td>중개거래</td>\n",
       "      <td>1999</td>\n",
       "      <td>2022</td>\n",
       "      <td>공지로200번길</td>\n",
       "      <td>00013</td>\n",
       "      <td>00000</td>\n",
       "      <td>42110</td>\n",
       "      <td>01</td>\n",
       "      <td>0</td>\n",
       "      <td>...</td>\n",
       "      <td>8</td>\n",
       "      <td>11</td>\n",
       "      <td>42110-14</td>\n",
       "      <td>37.2</td>\n",
       "      <td>강원 춘천시</td>\n",
       "      <td>821</td>\n",
       "      <td>42110</td>\n",
       "      <td>9</td>\n",
       "      <td></td>\n",
       "      <td></td>\n",
       "    </tr>\n",
       "    <tr>\n",
       "      <th>3</th>\n",
       "      <td>23,200</td>\n",
       "      <td>중개거래</td>\n",
       "      <td>2005</td>\n",
       "      <td>2022</td>\n",
       "      <td>공지로317번길</td>\n",
       "      <td>00011</td>\n",
       "      <td>00000</td>\n",
       "      <td>42110</td>\n",
       "      <td>01</td>\n",
       "      <td>0</td>\n",
       "      <td>...</td>\n",
       "      <td>8</td>\n",
       "      <td>17</td>\n",
       "      <td>42110-278</td>\n",
       "      <td>84.984</td>\n",
       "      <td>강원 춘천시</td>\n",
       "      <td>701</td>\n",
       "      <td>42110</td>\n",
       "      <td>3</td>\n",
       "      <td></td>\n",
       "      <td></td>\n",
       "    </tr>\n",
       "    <tr>\n",
       "      <th>4</th>\n",
       "      <td>6,500</td>\n",
       "      <td>중개거래</td>\n",
       "      <td>1997</td>\n",
       "      <td>2022</td>\n",
       "      <td>백령로75번길</td>\n",
       "      <td>00007</td>\n",
       "      <td>00000</td>\n",
       "      <td>42110</td>\n",
       "      <td>01</td>\n",
       "      <td>0</td>\n",
       "      <td>...</td>\n",
       "      <td>8</td>\n",
       "      <td>24</td>\n",
       "      <td>42110-84</td>\n",
       "      <td>32.16</td>\n",
       "      <td>강원 춘천시</td>\n",
       "      <td>820</td>\n",
       "      <td>42110</td>\n",
       "      <td>4</td>\n",
       "      <td></td>\n",
       "      <td></td>\n",
       "    </tr>\n",
       "  </tbody>\n",
       "</table>\n",
       "<p>5 rows × 28 columns</p>\n",
       "</div>"
      ],
      "text/plain": [
       "           0     1     2     3         4      5      6      7   8  9   ... 18  \\\n",
       "0       5,500  중개거래  1999  2022  공지로200번길  00013  00000  42110  01  0  ...  8   \n",
       "1       4,500  중개거래  1999  2022  공지로200번길  00013  00000  42110  01  0  ...  8   \n",
       "2       7,450  중개거래  1999  2022  공지로200번길  00013  00000  42110  01  0  ...  8   \n",
       "3      23,200  중개거래  2005  2022  공지로317번길  00011  00000  42110  01  0  ...  8   \n",
       "4       6,500  중개거래  1997  2022   백령로75번길  00007  00000  42110  01  0  ...  8   \n",
       "\n",
       "   19         20      21      22   23     24 25 26 27  \n",
       "0   6   42110-14   28.38  강원 춘천시  821  42110  6        \n",
       "1  10   42110-14   28.38  강원 춘천시  821  42110  1        \n",
       "2  11   42110-14    37.2  강원 춘천시  821  42110  9        \n",
       "3  17  42110-278  84.984  강원 춘천시  701  42110  3        \n",
       "4  24   42110-84   32.16  강원 춘천시  820  42110  4        \n",
       "\n",
       "[5 rows x 28 columns]"
      ]
     },
     "execution_count": 69,
     "metadata": {},
     "output_type": "execute_result"
    }
   ],
   "source": [
    "rDF.head()"
   ]
  },
  {
   "cell_type": "code",
   "execution_count": 70,
   "metadata": {},
   "outputs": [
    {
     "data": {
      "text/html": [
       "<div>\n",
       "<style scoped>\n",
       "    .dataframe tbody tr th:only-of-type {\n",
       "        vertical-align: middle;\n",
       "    }\n",
       "\n",
       "    .dataframe tbody tr th {\n",
       "        vertical-align: top;\n",
       "    }\n",
       "\n",
       "    .dataframe thead th {\n",
       "        text-align: right;\n",
       "    }\n",
       "</style>\n",
       "<table border=\"1\" class=\"dataframe\">\n",
       "  <thead>\n",
       "    <tr style=\"text-align: right;\">\n",
       "      <th></th>\n",
       "      <th>0</th>\n",
       "      <th>1</th>\n",
       "      <th>2</th>\n",
       "      <th>3</th>\n",
       "      <th>4</th>\n",
       "      <th>8</th>\n",
       "      <th>9</th>\n",
       "      <th>10</th>\n",
       "      <th>11</th>\n",
       "      <th>12</th>\n",
       "      <th>...</th>\n",
       "      <th>18</th>\n",
       "      <th>19</th>\n",
       "      <th>20</th>\n",
       "      <th>21</th>\n",
       "      <th>22</th>\n",
       "      <th>23</th>\n",
       "      <th>24</th>\n",
       "      <th>25</th>\n",
       "      <th>26</th>\n",
       "      <th>27</th>\n",
       "    </tr>\n",
       "  </thead>\n",
       "  <tbody>\n",
       "    <tr>\n",
       "      <th>0</th>\n",
       "      <td>5,500</td>\n",
       "      <td>중개거래</td>\n",
       "      <td>1999</td>\n",
       "      <td>2022</td>\n",
       "      <td>공지로200번길</td>\n",
       "      <td>01</td>\n",
       "      <td>0</td>\n",
       "      <td>4454045</td>\n",
       "      <td>효자동</td>\n",
       "      <td>0821</td>\n",
       "      <td>...</td>\n",
       "      <td>8</td>\n",
       "      <td>6</td>\n",
       "      <td>42110-14</td>\n",
       "      <td>28.38</td>\n",
       "      <td>강원 춘천시</td>\n",
       "      <td>821</td>\n",
       "      <td>42110</td>\n",
       "      <td>6</td>\n",
       "      <td></td>\n",
       "      <td></td>\n",
       "    </tr>\n",
       "    <tr>\n",
       "      <th>1</th>\n",
       "      <td>4,500</td>\n",
       "      <td>중개거래</td>\n",
       "      <td>1999</td>\n",
       "      <td>2022</td>\n",
       "      <td>공지로200번길</td>\n",
       "      <td>01</td>\n",
       "      <td>0</td>\n",
       "      <td>4454045</td>\n",
       "      <td>효자동</td>\n",
       "      <td>0821</td>\n",
       "      <td>...</td>\n",
       "      <td>8</td>\n",
       "      <td>10</td>\n",
       "      <td>42110-14</td>\n",
       "      <td>28.38</td>\n",
       "      <td>강원 춘천시</td>\n",
       "      <td>821</td>\n",
       "      <td>42110</td>\n",
       "      <td>1</td>\n",
       "      <td></td>\n",
       "      <td></td>\n",
       "    </tr>\n",
       "    <tr>\n",
       "      <th>2</th>\n",
       "      <td>7,450</td>\n",
       "      <td>중개거래</td>\n",
       "      <td>1999</td>\n",
       "      <td>2022</td>\n",
       "      <td>공지로200번길</td>\n",
       "      <td>01</td>\n",
       "      <td>0</td>\n",
       "      <td>4454045</td>\n",
       "      <td>효자동</td>\n",
       "      <td>0821</td>\n",
       "      <td>...</td>\n",
       "      <td>8</td>\n",
       "      <td>11</td>\n",
       "      <td>42110-14</td>\n",
       "      <td>37.2</td>\n",
       "      <td>강원 춘천시</td>\n",
       "      <td>821</td>\n",
       "      <td>42110</td>\n",
       "      <td>9</td>\n",
       "      <td></td>\n",
       "      <td></td>\n",
       "    </tr>\n",
       "    <tr>\n",
       "      <th>3</th>\n",
       "      <td>23,200</td>\n",
       "      <td>중개거래</td>\n",
       "      <td>2005</td>\n",
       "      <td>2022</td>\n",
       "      <td>공지로317번길</td>\n",
       "      <td>01</td>\n",
       "      <td>0</td>\n",
       "      <td>4454053</td>\n",
       "      <td>효자동</td>\n",
       "      <td>0701</td>\n",
       "      <td>...</td>\n",
       "      <td>8</td>\n",
       "      <td>17</td>\n",
       "      <td>42110-278</td>\n",
       "      <td>84.984</td>\n",
       "      <td>강원 춘천시</td>\n",
       "      <td>701</td>\n",
       "      <td>42110</td>\n",
       "      <td>3</td>\n",
       "      <td></td>\n",
       "      <td></td>\n",
       "    </tr>\n",
       "    <tr>\n",
       "      <th>4</th>\n",
       "      <td>6,500</td>\n",
       "      <td>중개거래</td>\n",
       "      <td>1997</td>\n",
       "      <td>2022</td>\n",
       "      <td>백령로75번길</td>\n",
       "      <td>01</td>\n",
       "      <td>0</td>\n",
       "      <td>4454267</td>\n",
       "      <td>효자동</td>\n",
       "      <td>0820</td>\n",
       "      <td>...</td>\n",
       "      <td>8</td>\n",
       "      <td>24</td>\n",
       "      <td>42110-84</td>\n",
       "      <td>32.16</td>\n",
       "      <td>강원 춘천시</td>\n",
       "      <td>820</td>\n",
       "      <td>42110</td>\n",
       "      <td>4</td>\n",
       "      <td></td>\n",
       "      <td></td>\n",
       "    </tr>\n",
       "  </tbody>\n",
       "</table>\n",
       "<p>5 rows × 25 columns</p>\n",
       "</div>"
      ],
      "text/plain": [
       "           0     1     2     3         4   8  9        10    11    12  ... 18  \\\n",
       "0       5,500  중개거래  1999  2022  공지로200번길  01  0  4454045   효자동  0821  ...  8   \n",
       "1       4,500  중개거래  1999  2022  공지로200번길  01  0  4454045   효자동  0821  ...  8   \n",
       "2       7,450  중개거래  1999  2022  공지로200번길  01  0  4454045   효자동  0821  ...  8   \n",
       "3      23,200  중개거래  2005  2022  공지로317번길  01  0  4454053   효자동  0701  ...  8   \n",
       "4       6,500  중개거래  1997  2022   백령로75번길  01  0  4454267   효자동  0820  ...  8   \n",
       "\n",
       "   19         20      21      22   23     24 25 26 27  \n",
       "0   6   42110-14   28.38  강원 춘천시  821  42110  6        \n",
       "1  10   42110-14   28.38  강원 춘천시  821  42110  1        \n",
       "2  11   42110-14    37.2  강원 춘천시  821  42110  9        \n",
       "3  17  42110-278  84.984  강원 춘천시  701  42110  3        \n",
       "4  24   42110-84   32.16  강원 춘천시  820  42110  4        \n",
       "\n",
       "[5 rows x 25 columns]"
      ]
     },
     "execution_count": 70,
     "metadata": {},
     "output_type": "execute_result"
    }
   ],
   "source": [
    "drop_list = [5,6,7]\n",
    "rDF.drop(drop_list,axis=1,inplace=True)\n",
    "rDF.head()"
   ]
  },
  {
   "cell_type": "code",
   "execution_count": 71,
   "metadata": {},
   "outputs": [
    {
     "ename": "KeyError",
     "evalue": "'거래유형'",
     "output_type": "error",
     "traceback": [
      "\u001b[1;31m---------------------------------------------------------------------------\u001b[0m",
      "\u001b[1;31mKeyError\u001b[0m                                  Traceback (most recent call last)",
      "\u001b[1;32m~\\anaconda3\\lib\\site-packages\\pandas\\core\\indexes\\base.py\u001b[0m in \u001b[0;36mget_loc\u001b[1;34m(self, key, method, tolerance)\u001b[0m\n\u001b[0;32m   2894\u001b[0m             \u001b[1;32mtry\u001b[0m\u001b[1;33m:\u001b[0m\u001b[1;33m\u001b[0m\u001b[1;33m\u001b[0m\u001b[0m\n\u001b[1;32m-> 2895\u001b[1;33m                 \u001b[1;32mreturn\u001b[0m \u001b[0mself\u001b[0m\u001b[1;33m.\u001b[0m\u001b[0m_engine\u001b[0m\u001b[1;33m.\u001b[0m\u001b[0mget_loc\u001b[0m\u001b[1;33m(\u001b[0m\u001b[0mcasted_key\u001b[0m\u001b[1;33m)\u001b[0m\u001b[1;33m\u001b[0m\u001b[1;33m\u001b[0m\u001b[0m\n\u001b[0m\u001b[0;32m   2896\u001b[0m             \u001b[1;32mexcept\u001b[0m \u001b[0mKeyError\u001b[0m \u001b[1;32mas\u001b[0m \u001b[0merr\u001b[0m\u001b[1;33m:\u001b[0m\u001b[1;33m\u001b[0m\u001b[1;33m\u001b[0m\u001b[0m\n",
      "\u001b[1;32mpandas\\_libs\\index.pyx\u001b[0m in \u001b[0;36mpandas._libs.index.IndexEngine.get_loc\u001b[1;34m()\u001b[0m\n",
      "\u001b[1;32mpandas\\_libs\\index.pyx\u001b[0m in \u001b[0;36mpandas._libs.index.IndexEngine.get_loc\u001b[1;34m()\u001b[0m\n",
      "\u001b[1;32mpandas\\_libs\\index_class_helper.pxi\u001b[0m in \u001b[0;36mpandas._libs.index.Int64Engine._check_type\u001b[1;34m()\u001b[0m\n",
      "\u001b[1;31mKeyError\u001b[0m: '거래유형'",
      "\nThe above exception was the direct cause of the following exception:\n",
      "\u001b[1;31mKeyError\u001b[0m                                  Traceback (most recent call last)",
      "\u001b[1;32m<ipython-input-71-2d5c249cf401>\u001b[0m in \u001b[0;36m<module>\u001b[1;34m\u001b[0m\n\u001b[1;32m----> 1\u001b[1;33m \u001b[0mrDF\u001b[0m\u001b[1;33m[\u001b[0m\u001b[1;34m'거래유형'\u001b[0m\u001b[1;33m]\u001b[0m\u001b[1;33m.\u001b[0m\u001b[0mnunique\u001b[0m\u001b[1;33m(\u001b[0m\u001b[1;33m)\u001b[0m\u001b[1;33m\u001b[0m\u001b[1;33m\u001b[0m\u001b[0m\n\u001b[0m",
      "\u001b[1;32m~\\anaconda3\\lib\\site-packages\\pandas\\core\\frame.py\u001b[0m in \u001b[0;36m__getitem__\u001b[1;34m(self, key)\u001b[0m\n\u001b[0;32m   2900\u001b[0m             \u001b[1;32mif\u001b[0m \u001b[0mself\u001b[0m\u001b[1;33m.\u001b[0m\u001b[0mcolumns\u001b[0m\u001b[1;33m.\u001b[0m\u001b[0mnlevels\u001b[0m \u001b[1;33m>\u001b[0m \u001b[1;36m1\u001b[0m\u001b[1;33m:\u001b[0m\u001b[1;33m\u001b[0m\u001b[1;33m\u001b[0m\u001b[0m\n\u001b[0;32m   2901\u001b[0m                 \u001b[1;32mreturn\u001b[0m \u001b[0mself\u001b[0m\u001b[1;33m.\u001b[0m\u001b[0m_getitem_multilevel\u001b[0m\u001b[1;33m(\u001b[0m\u001b[0mkey\u001b[0m\u001b[1;33m)\u001b[0m\u001b[1;33m\u001b[0m\u001b[1;33m\u001b[0m\u001b[0m\n\u001b[1;32m-> 2902\u001b[1;33m             \u001b[0mindexer\u001b[0m \u001b[1;33m=\u001b[0m \u001b[0mself\u001b[0m\u001b[1;33m.\u001b[0m\u001b[0mcolumns\u001b[0m\u001b[1;33m.\u001b[0m\u001b[0mget_loc\u001b[0m\u001b[1;33m(\u001b[0m\u001b[0mkey\u001b[0m\u001b[1;33m)\u001b[0m\u001b[1;33m\u001b[0m\u001b[1;33m\u001b[0m\u001b[0m\n\u001b[0m\u001b[0;32m   2903\u001b[0m             \u001b[1;32mif\u001b[0m \u001b[0mis_integer\u001b[0m\u001b[1;33m(\u001b[0m\u001b[0mindexer\u001b[0m\u001b[1;33m)\u001b[0m\u001b[1;33m:\u001b[0m\u001b[1;33m\u001b[0m\u001b[1;33m\u001b[0m\u001b[0m\n\u001b[0;32m   2904\u001b[0m                 \u001b[0mindexer\u001b[0m \u001b[1;33m=\u001b[0m \u001b[1;33m[\u001b[0m\u001b[0mindexer\u001b[0m\u001b[1;33m]\u001b[0m\u001b[1;33m\u001b[0m\u001b[1;33m\u001b[0m\u001b[0m\n",
      "\u001b[1;32m~\\anaconda3\\lib\\site-packages\\pandas\\core\\indexes\\base.py\u001b[0m in \u001b[0;36mget_loc\u001b[1;34m(self, key, method, tolerance)\u001b[0m\n\u001b[0;32m   2895\u001b[0m                 \u001b[1;32mreturn\u001b[0m \u001b[0mself\u001b[0m\u001b[1;33m.\u001b[0m\u001b[0m_engine\u001b[0m\u001b[1;33m.\u001b[0m\u001b[0mget_loc\u001b[0m\u001b[1;33m(\u001b[0m\u001b[0mcasted_key\u001b[0m\u001b[1;33m)\u001b[0m\u001b[1;33m\u001b[0m\u001b[1;33m\u001b[0m\u001b[0m\n\u001b[0;32m   2896\u001b[0m             \u001b[1;32mexcept\u001b[0m \u001b[0mKeyError\u001b[0m \u001b[1;32mas\u001b[0m \u001b[0merr\u001b[0m\u001b[1;33m:\u001b[0m\u001b[1;33m\u001b[0m\u001b[1;33m\u001b[0m\u001b[0m\n\u001b[1;32m-> 2897\u001b[1;33m                 \u001b[1;32mraise\u001b[0m \u001b[0mKeyError\u001b[0m\u001b[1;33m(\u001b[0m\u001b[0mkey\u001b[0m\u001b[1;33m)\u001b[0m \u001b[1;32mfrom\u001b[0m \u001b[0merr\u001b[0m\u001b[1;33m\u001b[0m\u001b[1;33m\u001b[0m\u001b[0m\n\u001b[0m\u001b[0;32m   2898\u001b[0m \u001b[1;33m\u001b[0m\u001b[0m\n\u001b[0;32m   2899\u001b[0m         \u001b[1;32mif\u001b[0m \u001b[0mtolerance\u001b[0m \u001b[1;32mis\u001b[0m \u001b[1;32mnot\u001b[0m \u001b[1;32mNone\u001b[0m\u001b[1;33m:\u001b[0m\u001b[1;33m\u001b[0m\u001b[1;33m\u001b[0m\u001b[0m\n",
      "\u001b[1;31mKeyError\u001b[0m: '거래유형'"
     ]
    }
   ],
   "source": [
    "rDF['거래유형'].nunique()"
   ]
  },
  {
   "cell_type": "code",
   "execution_count": 72,
   "metadata": {},
   "outputs": [
    {
     "ename": "SyntaxError",
     "evalue": "invalid syntax (<ipython-input-72-2646072fb3e5>, line 1)",
     "output_type": "error",
     "traceback": [
      "\u001b[1;36m  File \u001b[1;32m\"<ipython-input-72-2646072fb3e5>\"\u001b[1;36m, line \u001b[1;32m1\u001b[0m\n\u001b[1;33m    rDF['거래유형'].\u001b[0m\n\u001b[1;37m                ^\u001b[0m\n\u001b[1;31mSyntaxError\u001b[0m\u001b[1;31m:\u001b[0m invalid syntax\n"
     ]
    }
   ],
   "source": [
    "rDF['거래유형'].value_counts()"
   ]
  },
  {
   "cell_type": "code",
   "execution_count": 73,
   "metadata": {},
   "outputs": [
    {
     "ename": "KeyError",
     "evalue": "5",
     "output_type": "error",
     "traceback": [
      "\u001b[1;31m---------------------------------------------------------------------------\u001b[0m",
      "\u001b[1;31mKeyError\u001b[0m                                  Traceback (most recent call last)",
      "\u001b[1;32m~\\anaconda3\\lib\\site-packages\\pandas\\core\\indexes\\base.py\u001b[0m in \u001b[0;36mget_loc\u001b[1;34m(self, key, method, tolerance)\u001b[0m\n\u001b[0;32m   2894\u001b[0m             \u001b[1;32mtry\u001b[0m\u001b[1;33m:\u001b[0m\u001b[1;33m\u001b[0m\u001b[1;33m\u001b[0m\u001b[0m\n\u001b[1;32m-> 2895\u001b[1;33m                 \u001b[1;32mreturn\u001b[0m \u001b[0mself\u001b[0m\u001b[1;33m.\u001b[0m\u001b[0m_engine\u001b[0m\u001b[1;33m.\u001b[0m\u001b[0mget_loc\u001b[0m\u001b[1;33m(\u001b[0m\u001b[0mcasted_key\u001b[0m\u001b[1;33m)\u001b[0m\u001b[1;33m\u001b[0m\u001b[1;33m\u001b[0m\u001b[0m\n\u001b[0m\u001b[0;32m   2896\u001b[0m             \u001b[1;32mexcept\u001b[0m \u001b[0mKeyError\u001b[0m \u001b[1;32mas\u001b[0m \u001b[0merr\u001b[0m\u001b[1;33m:\u001b[0m\u001b[1;33m\u001b[0m\u001b[1;33m\u001b[0m\u001b[0m\n",
      "\u001b[1;32mpandas\\_libs\\index.pyx\u001b[0m in \u001b[0;36mpandas._libs.index.IndexEngine.get_loc\u001b[1;34m()\u001b[0m\n",
      "\u001b[1;32mpandas\\_libs\\index.pyx\u001b[0m in \u001b[0;36mpandas._libs.index.IndexEngine.get_loc\u001b[1;34m()\u001b[0m\n",
      "\u001b[1;32mpandas\\_libs\\hashtable_class_helper.pxi\u001b[0m in \u001b[0;36mpandas._libs.hashtable.Int64HashTable.get_item\u001b[1;34m()\u001b[0m\n",
      "\u001b[1;32mpandas\\_libs\\hashtable_class_helper.pxi\u001b[0m in \u001b[0;36mpandas._libs.hashtable.Int64HashTable.get_item\u001b[1;34m()\u001b[0m\n",
      "\u001b[1;31mKeyError\u001b[0m: 5",
      "\nThe above exception was the direct cause of the following exception:\n",
      "\u001b[1;31mKeyError\u001b[0m                                  Traceback (most recent call last)",
      "\u001b[1;32m<ipython-input-73-c22a7d0f752b>\u001b[0m in \u001b[0;36m<module>\u001b[1;34m\u001b[0m\n\u001b[1;32m----> 1\u001b[1;33m \u001b[0mrDF\u001b[0m\u001b[1;33m.\u001b[0m\u001b[0minfo\u001b[0m\u001b[1;33m(\u001b[0m\u001b[1;33m)\u001b[0m\u001b[1;33m\u001b[0m\u001b[1;33m\u001b[0m\u001b[0m\n\u001b[0m",
      "\u001b[1;32m~\\anaconda3\\lib\\site-packages\\pandas\\core\\frame.py\u001b[0m in \u001b[0;36minfo\u001b[1;34m(self, verbose, buf, max_cols, memory_usage, null_counts)\u001b[0m\n\u001b[0;32m   2587\u001b[0m         \u001b[0mnull_counts\u001b[0m\u001b[1;33m:\u001b[0m \u001b[0mOptional\u001b[0m\u001b[1;33m[\u001b[0m\u001b[0mbool\u001b[0m\u001b[1;33m]\u001b[0m \u001b[1;33m=\u001b[0m \u001b[1;32mNone\u001b[0m\u001b[1;33m,\u001b[0m\u001b[1;33m\u001b[0m\u001b[1;33m\u001b[0m\u001b[0m\n\u001b[0;32m   2588\u001b[0m     ) -> None:\n\u001b[1;32m-> 2589\u001b[1;33m         return DataFrameInfo(\n\u001b[0m\u001b[0;32m   2590\u001b[0m             \u001b[0mself\u001b[0m\u001b[1;33m,\u001b[0m \u001b[0mverbose\u001b[0m\u001b[1;33m,\u001b[0m \u001b[0mbuf\u001b[0m\u001b[1;33m,\u001b[0m \u001b[0mmax_cols\u001b[0m\u001b[1;33m,\u001b[0m \u001b[0mmemory_usage\u001b[0m\u001b[1;33m,\u001b[0m \u001b[0mnull_counts\u001b[0m\u001b[1;33m\u001b[0m\u001b[1;33m\u001b[0m\u001b[0m\n\u001b[0;32m   2591\u001b[0m         ).info()\n",
      "\u001b[1;32m~\\anaconda3\\lib\\site-packages\\pandas\\io\\formats\\info.py\u001b[0m in \u001b[0;36minfo\u001b[1;34m(self)\u001b[0m\n\u001b[0;32m    248\u001b[0m                 \u001b[0mself\u001b[0m\u001b[1;33m.\u001b[0m\u001b[0m_non_verbose_repr\u001b[0m\u001b[1;33m(\u001b[0m\u001b[0mlines\u001b[0m\u001b[1;33m,\u001b[0m \u001b[0mids\u001b[0m\u001b[1;33m)\u001b[0m\u001b[1;33m\u001b[0m\u001b[1;33m\u001b[0m\u001b[0m\n\u001b[0;32m    249\u001b[0m             \u001b[1;32melse\u001b[0m\u001b[1;33m:\u001b[0m\u001b[1;33m\u001b[0m\u001b[1;33m\u001b[0m\u001b[0m\n\u001b[1;32m--> 250\u001b[1;33m                 \u001b[0mself\u001b[0m\u001b[1;33m.\u001b[0m\u001b[0m_verbose_repr\u001b[0m\u001b[1;33m(\u001b[0m\u001b[0mlines\u001b[0m\u001b[1;33m,\u001b[0m \u001b[0mids\u001b[0m\u001b[1;33m,\u001b[0m \u001b[0mdtypes\u001b[0m\u001b[1;33m,\u001b[0m \u001b[0mshow_counts\u001b[0m\u001b[1;33m)\u001b[0m\u001b[1;33m\u001b[0m\u001b[1;33m\u001b[0m\u001b[0m\n\u001b[0m\u001b[0;32m    251\u001b[0m \u001b[1;33m\u001b[0m\u001b[0m\n\u001b[0;32m    252\u001b[0m         \u001b[1;31m# groupby dtype.name to collect e.g. Categorical columns\u001b[0m\u001b[1;33m\u001b[0m\u001b[1;33m\u001b[0m\u001b[1;33m\u001b[0m\u001b[0m\n",
      "\u001b[1;32m~\\anaconda3\\lib\\site-packages\\pandas\\io\\formats\\info.py\u001b[0m in \u001b[0;36m_verbose_repr\u001b[1;34m(self, lines, ids, dtypes, show_counts)\u001b[0m\n\u001b[0;32m    333\u001b[0m \u001b[1;33m\u001b[0m\u001b[0m\n\u001b[0;32m    334\u001b[0m         \u001b[1;32mfor\u001b[0m \u001b[0mi\u001b[0m\u001b[1;33m,\u001b[0m \u001b[0mcol\u001b[0m \u001b[1;32min\u001b[0m \u001b[0menumerate\u001b[0m\u001b[1;33m(\u001b[0m\u001b[0mids\u001b[0m\u001b[1;33m)\u001b[0m\u001b[1;33m:\u001b[0m\u001b[1;33m\u001b[0m\u001b[1;33m\u001b[0m\u001b[0m\n\u001b[1;32m--> 335\u001b[1;33m             \u001b[0mdtype\u001b[0m \u001b[1;33m=\u001b[0m \u001b[0mdtypes\u001b[0m\u001b[1;33m[\u001b[0m\u001b[0mi\u001b[0m\u001b[1;33m]\u001b[0m\u001b[1;33m\u001b[0m\u001b[1;33m\u001b[0m\u001b[0m\n\u001b[0m\u001b[0;32m    336\u001b[0m             \u001b[0mcol\u001b[0m \u001b[1;33m=\u001b[0m \u001b[0mpprint_thing\u001b[0m\u001b[1;33m(\u001b[0m\u001b[0mcol\u001b[0m\u001b[1;33m)\u001b[0m\u001b[1;33m\u001b[0m\u001b[1;33m\u001b[0m\u001b[0m\n\u001b[0;32m    337\u001b[0m \u001b[1;33m\u001b[0m\u001b[0m\n",
      "\u001b[1;32m~\\anaconda3\\lib\\site-packages\\pandas\\core\\series.py\u001b[0m in \u001b[0;36m__getitem__\u001b[1;34m(self, key)\u001b[0m\n\u001b[0;32m    880\u001b[0m \u001b[1;33m\u001b[0m\u001b[0m\n\u001b[0;32m    881\u001b[0m         \u001b[1;32melif\u001b[0m \u001b[0mkey_is_scalar\u001b[0m\u001b[1;33m:\u001b[0m\u001b[1;33m\u001b[0m\u001b[1;33m\u001b[0m\u001b[0m\n\u001b[1;32m--> 882\u001b[1;33m             \u001b[1;32mreturn\u001b[0m \u001b[0mself\u001b[0m\u001b[1;33m.\u001b[0m\u001b[0m_get_value\u001b[0m\u001b[1;33m(\u001b[0m\u001b[0mkey\u001b[0m\u001b[1;33m)\u001b[0m\u001b[1;33m\u001b[0m\u001b[1;33m\u001b[0m\u001b[0m\n\u001b[0m\u001b[0;32m    883\u001b[0m \u001b[1;33m\u001b[0m\u001b[0m\n\u001b[0;32m    884\u001b[0m         \u001b[1;32mif\u001b[0m \u001b[0mis_hashable\u001b[0m\u001b[1;33m(\u001b[0m\u001b[0mkey\u001b[0m\u001b[1;33m)\u001b[0m\u001b[1;33m:\u001b[0m\u001b[1;33m\u001b[0m\u001b[1;33m\u001b[0m\u001b[0m\n",
      "\u001b[1;32m~\\anaconda3\\lib\\site-packages\\pandas\\core\\series.py\u001b[0m in \u001b[0;36m_get_value\u001b[1;34m(self, label, takeable)\u001b[0m\n\u001b[0;32m    987\u001b[0m \u001b[1;33m\u001b[0m\u001b[0m\n\u001b[0;32m    988\u001b[0m         \u001b[1;31m# Similar to Index.get_value, but we do not fall back to positional\u001b[0m\u001b[1;33m\u001b[0m\u001b[1;33m\u001b[0m\u001b[1;33m\u001b[0m\u001b[0m\n\u001b[1;32m--> 989\u001b[1;33m         \u001b[0mloc\u001b[0m \u001b[1;33m=\u001b[0m \u001b[0mself\u001b[0m\u001b[1;33m.\u001b[0m\u001b[0mindex\u001b[0m\u001b[1;33m.\u001b[0m\u001b[0mget_loc\u001b[0m\u001b[1;33m(\u001b[0m\u001b[0mlabel\u001b[0m\u001b[1;33m)\u001b[0m\u001b[1;33m\u001b[0m\u001b[1;33m\u001b[0m\u001b[0m\n\u001b[0m\u001b[0;32m    990\u001b[0m         \u001b[1;32mreturn\u001b[0m \u001b[0mself\u001b[0m\u001b[1;33m.\u001b[0m\u001b[0mindex\u001b[0m\u001b[1;33m.\u001b[0m\u001b[0m_get_values_for_loc\u001b[0m\u001b[1;33m(\u001b[0m\u001b[0mself\u001b[0m\u001b[1;33m,\u001b[0m \u001b[0mloc\u001b[0m\u001b[1;33m,\u001b[0m \u001b[0mlabel\u001b[0m\u001b[1;33m)\u001b[0m\u001b[1;33m\u001b[0m\u001b[1;33m\u001b[0m\u001b[0m\n\u001b[0;32m    991\u001b[0m \u001b[1;33m\u001b[0m\u001b[0m\n",
      "\u001b[1;32m~\\anaconda3\\lib\\site-packages\\pandas\\core\\indexes\\base.py\u001b[0m in \u001b[0;36mget_loc\u001b[1;34m(self, key, method, tolerance)\u001b[0m\n\u001b[0;32m   2895\u001b[0m                 \u001b[1;32mreturn\u001b[0m \u001b[0mself\u001b[0m\u001b[1;33m.\u001b[0m\u001b[0m_engine\u001b[0m\u001b[1;33m.\u001b[0m\u001b[0mget_loc\u001b[0m\u001b[1;33m(\u001b[0m\u001b[0mcasted_key\u001b[0m\u001b[1;33m)\u001b[0m\u001b[1;33m\u001b[0m\u001b[1;33m\u001b[0m\u001b[0m\n\u001b[0;32m   2896\u001b[0m             \u001b[1;32mexcept\u001b[0m \u001b[0mKeyError\u001b[0m \u001b[1;32mas\u001b[0m \u001b[0merr\u001b[0m\u001b[1;33m:\u001b[0m\u001b[1;33m\u001b[0m\u001b[1;33m\u001b[0m\u001b[0m\n\u001b[1;32m-> 2897\u001b[1;33m                 \u001b[1;32mraise\u001b[0m \u001b[0mKeyError\u001b[0m\u001b[1;33m(\u001b[0m\u001b[0mkey\u001b[0m\u001b[1;33m)\u001b[0m \u001b[1;32mfrom\u001b[0m \u001b[0merr\u001b[0m\u001b[1;33m\u001b[0m\u001b[1;33m\u001b[0m\u001b[0m\n\u001b[0m\u001b[0;32m   2898\u001b[0m \u001b[1;33m\u001b[0m\u001b[0m\n\u001b[0;32m   2899\u001b[0m         \u001b[1;32mif\u001b[0m \u001b[0mtolerance\u001b[0m \u001b[1;32mis\u001b[0m \u001b[1;32mnot\u001b[0m \u001b[1;32mNone\u001b[0m\u001b[1;33m:\u001b[0m\u001b[1;33m\u001b[0m\u001b[1;33m\u001b[0m\u001b[0m\n",
      "\u001b[1;31mKeyError\u001b[0m: 5"
     ]
    }
   ],
   "source": [
    "rDF.info()"
   ]
  },
  {
   "cell_type": "code",
   "execution_count": null,
   "metadata": {},
   "outputs": [],
   "source": []
  }
 ],
 "metadata": {
  "kernelspec": {
   "display_name": "Python 3",
   "language": "python",
   "name": "python3"
  },
  "language_info": {
   "codemirror_mode": {
    "name": "ipython",
    "version": 3
   },
   "file_extension": ".py",
   "mimetype": "text/x-python",
   "name": "python",
   "nbconvert_exporter": "python",
   "pygments_lexer": "ipython3",
   "version": "3.8.5"
  }
 },
 "nbformat": 4,
 "nbformat_minor": 4
}
