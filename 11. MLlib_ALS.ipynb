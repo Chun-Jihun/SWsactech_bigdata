{
 "cells": [
  {
   "cell_type": "code",
   "execution_count": 3,
   "metadata": {},
   "outputs": [],
   "source": [
    "from pyspark.sql import SparkSession"
   ]
  },
  {
   "cell_type": "code",
   "execution_count": 4,
   "metadata": {},
   "outputs": [],
   "source": [
    "# OutOfMemory 오류가 나면 각종 설정을 추가적으로 해줄 수 있다.\n",
    "MAX_MEMORY = '5g'\n",
    "spark = SparkSession.builder.appName(\"movie-recommendation\")\\\n",
    "    .config(\"spark.executor.memory\", MAX_MEMORY)\\\n",
    "    .config(\"spark.driver.memory\", MAX_MEMORY)\\\n",
    "    .getOrCreate()"
   ]
  },
  {
   "cell_type": "code",
   "execution_count": 5,
   "metadata": {},
   "outputs": [],
   "source": [
    "directory=\"C:/Users/wjswl/study_spark/data\"\n",
    "filename = \"ratings.csv\""
   ]
  },
  {
   "cell_type": "code",
   "execution_count": 7,
   "metadata": {},
   "outputs": [
    {
     "name": "stdout",
     "output_type": "stream",
     "text": [
      "+------+-------+------+----------+\n",
      "|userId|movieId|rating| timestamp|\n",
      "+------+-------+------+----------+\n",
      "|     1|    296|   5.0|1147880044|\n",
      "|     1|    306|   3.5|1147868817|\n",
      "|     1|    307|   5.0|1147868828|\n",
      "|     1|    665|   5.0|1147878820|\n",
      "|     1|    899|   3.5|1147868510|\n",
      "|     1|   1088|   4.0|1147868495|\n",
      "|     1|   1175|   3.5|1147868826|\n",
      "|     1|   1217|   3.5|1147878326|\n",
      "|     1|   1237|   5.0|1147868839|\n",
      "|     1|   1250|   4.0|1147868414|\n",
      "|     1|   1260|   3.5|1147877857|\n",
      "|     1|   1653|   4.0|1147868097|\n",
      "|     1|   2011|   2.5|1147868079|\n",
      "|     1|   2012|   2.5|1147868068|\n",
      "|     1|   2068|   2.5|1147869044|\n",
      "|     1|   2161|   3.5|1147868609|\n",
      "|     1|   2351|   4.5|1147877957|\n",
      "|     1|   2573|   4.0|1147878923|\n",
      "|     1|   2632|   5.0|1147878248|\n",
      "|     1|   2692|   5.0|1147869100|\n",
      "+------+-------+------+----------+\n",
      "only showing top 20 rows\n",
      "\n"
     ]
    }
   ],
   "source": [
    "ratings_df = spark.read.csv(f\"file:///{directory}\\\\{filename}\", inferSchema=True, header=True)\n",
    "ratings_df.show()"
   ]
  },
  {
   "cell_type": "markdown",
   "metadata": {},
   "source": [
    "timestamp만 빼고 선택해 주기"
   ]
  },
  {
   "cell_type": "code",
   "execution_count": 8,
   "metadata": {},
   "outputs": [
    {
     "name": "stdout",
     "output_type": "stream",
     "text": [
      "root\n",
      " |-- userid: integer (nullable = true)\n",
      " |-- movieId: integer (nullable = true)\n",
      " |-- rating: double (nullable = true)\n",
      "\n"
     ]
    }
   ],
   "source": [
    "ratings_df = ratings_df.select([\"userid\", \"movieId\", \"rating\"])\n",
    "ratings_df.printSchema()"
   ]
  },
  {
   "cell_type": "code",
   "execution_count": 9,
   "metadata": {},
   "outputs": [
    {
     "name": "stdout",
     "output_type": "stream",
     "text": [
      "+-------+------------------+\n",
      "|summary|            rating|\n",
      "+-------+------------------+\n",
      "|  count|          25000095|\n",
      "|   mean| 3.533854451353085|\n",
      "| stddev|1.0607439611423508|\n",
      "|    min|               0.5|\n",
      "|    max|               5.0|\n",
      "+-------+------------------+\n",
      "\n"
     ]
    }
   ],
   "source": [
    "ratings_df.select('rating').describe().show()"
   ]
  },
  {
   "cell_type": "markdown",
   "metadata": {},
   "source": [
    "`train`, `test` 데이터 세트 분리하기"
   ]
  },
  {
   "cell_type": "code",
   "execution_count": 10,
   "metadata": {},
   "outputs": [],
   "source": [
    "train_ratio = 0.8\n",
    "test_ratio  = 0.2\n",
    "\n",
    "train_df, test_df = ratings_df.randomSplit([0.8, 0.2])"
   ]
  },
  {
   "cell_type": "markdown",
   "metadata": {},
   "source": [
    "## ALS 추천 알고리즘 가져오기"
   ]
  },
  {
   "cell_type": "code",
   "execution_count": 11,
   "metadata": {},
   "outputs": [],
   "source": [
    "from pyspark.ml.recommendation import ALS"
   ]
  },
  {
   "cell_type": "code",
   "execution_count": 12,
   "metadata": {},
   "outputs": [],
   "source": [
    "als = ALS(\n",
    "    maxIter=5,\n",
    "    regParam=0.1,\n",
    "    userCol = \"userid\",\n",
    "    itemCol = \"movieId\",\n",
    "    ratingCol = \"rating\",\n",
    "    coldStartStrategy=\"drop\"\n",
    ")"
   ]
  },
  {
   "cell_type": "code",
   "execution_count": 13,
   "metadata": {},
   "outputs": [],
   "source": [
    "model = als.fit(train_df)"
   ]
  },
  {
   "cell_type": "markdown",
   "metadata": {},
   "source": [
    "**예측**"
   ]
  },
  {
   "cell_type": "code",
   "execution_count": 14,
   "metadata": {},
   "outputs": [
    {
     "name": "stdout",
     "output_type": "stream",
     "text": [
      "+------+-------+------+----------+\n",
      "|userid|movieId|rating|prediction|\n",
      "+------+-------+------+----------+\n",
      "|    31|   1580|   3.0| 2.2900095|\n",
      "|    31|   6620|   1.5| 2.5070682|\n",
      "|    76|   1959|   5.0| 3.5795574|\n",
      "|   159|  54190|   5.0| 4.0784464|\n",
      "|   296|   1580|   3.0| 2.7322464|\n",
      "|   321|   1580|   3.0| 3.0947466|\n",
      "|   497|   1580|   5.0| 3.2466366|\n",
      "|   513|  44022|   5.0| 4.3242855|\n",
      "|   597|   1645|   5.0| 3.4671247|\n",
      "|   606|  36525|   2.5| 4.2295327|\n",
      "|   626|   2122|   2.0| 2.2905457|\n",
      "|   626|   6658|   3.5| 2.8782196|\n",
      "|   626|  36525|   4.0| 3.3931115|\n",
      "|   772|    471|   4.0|  3.410218|\n",
      "|   772|   1645|   3.0| 2.9847307|\n",
      "|   830|   1580|   5.0| 3.5145903|\n",
      "|   844|   1342|   4.0| 2.9084284|\n",
      "|   847|   1088|   1.0| 2.5815601|\n",
      "|   847|  96488|   4.0| 3.7842422|\n",
      "|   847| 119432|   3.5|  3.204154|\n",
      "+------+-------+------+----------+\n",
      "only showing top 20 rows\n",
      "\n"
     ]
    }
   ],
   "source": [
    "predictions = model.transform(test_df)\n",
    "predictions.show()"
   ]
  },
  {
   "cell_type": "markdown",
   "metadata": {},
   "source": [
    "* `rating` : 실제 값( `target`, `label` )\n",
    "* `prediction` : 모델이 예측한 값"
   ]
  },
  {
   "cell_type": "markdown",
   "metadata": {},
   "source": [
    "**통계 확인**"
   ]
  },
  {
   "cell_type": "code",
   "execution_count": 15,
   "metadata": {},
   "outputs": [
    {
     "name": "stdout",
     "output_type": "stream",
     "text": [
      "+-------+------------------+------------------+\n",
      "|summary|            rating|        prediction|\n",
      "+-------+------------------+------------------+\n",
      "|  count|           4997668|           4997668|\n",
      "|   mean|  3.53423116541555|3.4271337235375023|\n",
      "| stddev|1.0607227539631854|0.6455315965581465|\n",
      "|    min|               0.5|        -1.4841435|\n",
      "|    max|               5.0|          6.953022|\n",
      "+-------+------------------+------------------+\n",
      "\n"
     ]
    }
   ],
   "source": [
    "predictions.select(\"rating\", \"prediction\").describe().show()"
   ]
  },
  {
   "cell_type": "markdown",
   "metadata": {},
   "source": [
    "**RMSE Evaluation**"
   ]
  },
  {
   "cell_type": "markdown",
   "metadata": {},
   "source": [
    "$$\n",
    "MSE = \\frac{1}{N}\\sum_{i=1}^{N}(y_i - t_i)^2\n",
    "$$\n",
    "\n",
    "MSE : 평균 제곱 오차 (Mean Squared Error)\n",
    "- $y_i$ : 예측 값 ($\\hat{y}$)\n",
    "- $t_i$ : 실제 값\n",
    "\n",
    "$$\n",
    "RMSE = \\sqrt{\\frac{1}{N}\\sum_{i=1}^{N}(y_i - t_i)^2}\n",
    "$$\n",
    "\n",
    "RMSE : 평균 제곱 오차의 제곱근 (Root Mean Squared Error)"
   ]
  },
  {
   "cell_type": "code",
   "execution_count": 16,
   "metadata": {},
   "outputs": [],
   "source": [
    "# 영화의 평점 예측, 즉 회귀를 진행 했기 때문에 RegressionEvaluator\n",
    "from pyspark.ml.evaluation import RegressionEvaluator\n",
    "\n",
    "evaluator = RegressionEvaluator(metricName='rmse', labelCol='rating', predictionCol='prediction')"
   ]
  },
  {
   "cell_type": "code",
   "execution_count": 17,
   "metadata": {},
   "outputs": [
    {
     "name": "stdout",
     "output_type": "stream",
     "text": [
      "0.8098989350379645\n"
     ]
    }
   ],
   "source": [
    "rmse = evaluator.evaluate(predictions)\n",
    "print(rmse)"
   ]
  },
  {
   "cell_type": "markdown",
   "metadata": {},
   "source": [
    "평균적으로 예측을 했을 때 `0.82`점 정도의 오차가 있다."
   ]
  },
  {
   "cell_type": "markdown",
   "metadata": {},
   "source": [
    "`user` 또는 `movie`마다 추천을 해주기"
   ]
  },
  {
   "cell_type": "code",
   "execution_count": 18,
   "metadata": {},
   "outputs": [
    {
     "name": "stderr",
     "output_type": "stream",
     "text": [
      "C:\\Users\\wjswl\\anaconda3\\lib\\site-packages\\pyspark\\sql\\context.py:125: FutureWarning: Deprecated in 3.0.0. Use SparkSession.builder.getOrCreate() instead.\n",
      "  warnings.warn(\n"
     ]
    },
    {
     "name": "stdout",
     "output_type": "stream",
     "text": [
      "+------+--------------------+\n",
      "|userid|     recommendations|\n",
      "+------+--------------------+\n",
      "|    26|[{177209, 5.58156...|\n",
      "|    27|[{177411, 6.41921...|\n",
      "|    28|[{177209, 7.57901...|\n",
      "|    31|[{194334, 3.74085...|\n",
      "|    34|[{177209, 5.64509...|\n",
      "|    44|[{177209, 7.05599...|\n",
      "|    53|[{194334, 6.61187...|\n",
      "|    65|[{177209, 6.58599...|\n",
      "|    76|[{177209, 5.92992...|\n",
      "|    78|[{177209, 7.23135...|\n",
      "|    81|[{153184, 5.00843...|\n",
      "|    85|[{181803, 5.74279...|\n",
      "|   101|[{194334, 5.01973...|\n",
      "|   103|[{177209, 6.02106...|\n",
      "|   108|[{177209, 5.29794...|\n",
      "|   115|[{177209, 6.03530...|\n",
      "|   126|[{177209, 6.29277...|\n",
      "|   133|[{192089, 5.44591...|\n",
      "|   137|[{205453, 5.44152...|\n",
      "|   148|[{194434, 5.66685...|\n",
      "+------+--------------------+\n",
      "only showing top 20 rows\n",
      "\n"
     ]
    }
   ],
   "source": [
    "# 각 user 에게 top3 아이템을 추천 = {item 번호, 예측된 점수}\n",
    "model.recommendForAllUsers(3).show()"
   ]
  },
  {
   "cell_type": "code",
   "execution_count": 19,
   "metadata": {},
   "outputs": [
    {
     "name": "stdout",
     "output_type": "stream",
     "text": [
      "+-------+--------------------+\n",
      "|movieId|     recommendations|\n",
      "+-------+--------------------+\n",
      "|     12|[{87426, 5.497687...|\n",
      "|     26|[{105801, 5.01915...|\n",
      "|     27|[{87426, 5.831301...|\n",
      "|     28|[{103920, 5.54338...|\n",
      "|     31|[{87426, 5.630018...|\n",
      "|     34|[{58248, 5.256312...|\n",
      "|     44|[{87426, 5.292686...|\n",
      "|     53|[{84112, 5.582429...|\n",
      "|     65|[{87426, 5.409262...|\n",
      "|     76|[{87426, 5.377369...|\n",
      "|     78|[{67467, 4.667077...|\n",
      "|     81|[{161312, 4.73326...|\n",
      "|     85|[{80084, 4.931544...|\n",
      "|    101|[{89560, 4.930403...|\n",
      "|    103|[{87426, 5.247668...|\n",
      "|    108|[{29663, 5.618244...|\n",
      "|    115|[{87426, 5.975257...|\n",
      "|    126|[{87426, 5.069078...|\n",
      "|    133|[{31506, 5.429294...|\n",
      "|    137|[{31506, 4.997553...|\n",
      "+-------+--------------------+\n",
      "only showing top 20 rows\n",
      "\n"
     ]
    }
   ],
   "source": [
    "# 각 movie에 어울리는 top 3 user를 추천\n",
    "model.recommendForAllItems(3).show()"
   ]
  },
  {
   "cell_type": "markdown",
   "metadata": {},
   "source": [
    "**user_list**를 이용해서 예측"
   ]
  },
  {
   "cell_type": "code",
   "execution_count": 20,
   "metadata": {},
   "outputs": [
    {
     "name": "stdout",
     "output_type": "stream",
     "text": [
      "+------+\n",
      "|userId|\n",
      "+------+\n",
      "|    65|\n",
      "|    78|\n",
      "|    81|\n",
      "+------+\n",
      "\n"
     ]
    }
   ],
   "source": [
    "from pyspark.sql.types import IntegerType\n",
    "\n",
    "user_list = [65, 78, 81]\n",
    "users_df = spark.createDataFrame(user_list, IntegerType()).toDF(\"userId\")\n",
    "\n",
    "users_df.show()"
   ]
  },
  {
   "cell_type": "code",
   "execution_count": 21,
   "metadata": {},
   "outputs": [
    {
     "name": "stderr",
     "output_type": "stream",
     "text": [
      "C:\\Users\\wjswl\\anaconda3\\lib\\site-packages\\pyspark\\sql\\context.py:125: FutureWarning: Deprecated in 3.0.0. Use SparkSession.builder.getOrCreate() instead.\n",
      "  warnings.warn(\n"
     ]
    },
    {
     "name": "stdout",
     "output_type": "stream",
     "text": [
      "+------+--------------------+\n",
      "|userid|     recommendations|\n",
      "+------+--------------------+\n",
      "|    65|[{177209, 6.58599...|\n",
      "|    78|[{177209, 7.23135...|\n",
      "|    81|[{153184, 5.00843...|\n",
      "+------+--------------------+\n",
      "\n"
     ]
    }
   ],
   "source": [
    "# 데이터 프레임으로 예측 할 때는 recommendForUserSubset\n",
    "user_recs = model.recommendForUserSubset(users_df, 5) # 각 user에 대해 top 5 추천\n",
    "user_recs.show()"
   ]
  },
  {
   "cell_type": "markdown",
   "metadata": {},
   "source": [
    "`65`번 사용자를 위한 추천 영화 목록 만들어 보기"
   ]
  },
  {
   "cell_type": "code",
   "execution_count": 22,
   "metadata": {},
   "outputs": [
    {
     "data": {
      "text/plain": [
       "[Row(movieId=177209, rating=6.585999488830566),\n",
       " Row(movieId=139036, rating=6.525178909301758),\n",
       " Row(movieId=151989, rating=6.065602779388428),\n",
       " Row(movieId=194434, rating=6.048390865325928),\n",
       " Row(movieId=192261, rating=5.912269115447998)]"
      ]
     },
     "execution_count": 22,
     "metadata": {},
     "output_type": "execute_result"
    }
   ],
   "source": [
    "movies_list = user_recs.collect()[0].recommendations\n",
    "movies_list"
   ]
  },
  {
   "cell_type": "code",
   "execution_count": 23,
   "metadata": {},
   "outputs": [
    {
     "name": "stdout",
     "output_type": "stream",
     "text": [
      "+-------+-----------------+\n",
      "|movieId|           rating|\n",
      "+-------+-----------------+\n",
      "| 177209|6.585999488830566|\n",
      "| 139036|6.525178909301758|\n",
      "| 151989|6.065602779388428|\n",
      "| 194434|6.048390865325928|\n",
      "| 192261|5.912269115447998|\n",
      "+-------+-----------------+\n",
      "\n"
     ]
    }
   ],
   "source": [
    "recs_df = spark.createDataFrame(movies_list)\n",
    "recs_df.show()"
   ]
  },
  {
   "cell_type": "markdown",
   "metadata": {},
   "source": [
    "영화 이름으로 추천하기"
   ]
  },
  {
   "cell_type": "code",
   "execution_count": 24,
   "metadata": {},
   "outputs": [],
   "source": [
    "movies_file = \"movies.csv\""
   ]
  },
  {
   "cell_type": "code",
   "execution_count": 26,
   "metadata": {},
   "outputs": [
    {
     "name": "stdout",
     "output_type": "stream",
     "text": [
      "+-------+--------------------+--------------------+\n",
      "|movieId|               title|              genres|\n",
      "+-------+--------------------+--------------------+\n",
      "|      1|    Toy Story (1995)|Adventure|Animati...|\n",
      "|      2|      Jumanji (1995)|Adventure|Childre...|\n",
      "|      3|Grumpier Old Men ...|      Comedy|Romance|\n",
      "|      4|Waiting to Exhale...|Comedy|Drama|Romance|\n",
      "|      5|Father of the Bri...|              Comedy|\n",
      "|      6|         Heat (1995)|Action|Crime|Thri...|\n",
      "|      7|      Sabrina (1995)|      Comedy|Romance|\n",
      "|      8| Tom and Huck (1995)|  Adventure|Children|\n",
      "|      9| Sudden Death (1995)|              Action|\n",
      "|     10|    GoldenEye (1995)|Action|Adventure|...|\n",
      "|     11|American Presiden...|Comedy|Drama|Romance|\n",
      "|     12|Dracula: Dead and...|       Comedy|Horror|\n",
      "|     13|        Balto (1995)|Adventure|Animati...|\n",
      "|     14|        Nixon (1995)|               Drama|\n",
      "|     15|Cutthroat Island ...|Action|Adventure|...|\n",
      "|     16|       Casino (1995)|         Crime|Drama|\n",
      "|     17|Sense and Sensibi...|       Drama|Romance|\n",
      "|     18|   Four Rooms (1995)|              Comedy|\n",
      "|     19|Ace Ventura: When...|              Comedy|\n",
      "|     20|  Money Train (1995)|Action|Comedy|Cri...|\n",
      "+-------+--------------------+--------------------+\n",
      "only showing top 20 rows\n",
      "\n"
     ]
    }
   ],
   "source": [
    "movies_df = spark.read.csv(f\"file:///{directory}\\\\{movies_file}\", inferSchema=True, header=True)\n",
    "movies_df.show()"
   ]
  },
  {
   "cell_type": "markdown",
   "metadata": {},
   "source": [
    "spark SQL을 사용하기 위해 TempView 등록"
   ]
  },
  {
   "cell_type": "code",
   "execution_count": 30,
   "metadata": {},
   "outputs": [],
   "source": [
    "recs_df.createOrReplaceTempView(\"recommendations\")\n",
    "movies_df.createOrReplaceTempView(\"movies\")"
   ]
  },
  {
   "cell_type": "markdown",
   "metadata": {},
   "source": [
    "추천 영화와 추천 영화의 제목, 장르 조회"
   ]
  },
  {
   "cell_type": "code",
   "execution_count": 31,
   "metadata": {},
   "outputs": [
    {
     "name": "stdout",
     "output_type": "stream",
     "text": [
      "+-------+--------------------+------------------+-------+-----------------+\n",
      "|movieId|               title|            genres|movieId|           rating|\n",
      "+-------+--------------------+------------------+-------+-----------------+\n",
      "| 177209|      Acı Aşk (2009)|             Drama| 177209|6.585999488830566|\n",
      "| 139036|World Gone Wild (...|     Action|Sci-Fi| 139036|6.525178909301758|\n",
      "| 151989|    The Thorn (1971)|            Comedy| 151989|6.065602779388428|\n",
      "| 194434|   Adrenaline (1990)|(no genres listed)| 194434|6.048390865325928|\n",
      "| 192261|Don't Laugh at My...|      Comedy|Drama| 192261|5.912269115447998|\n",
      "+-------+--------------------+------------------+-------+-----------------+\n",
      "\n"
     ]
    }
   ],
   "source": [
    "query = \"\"\"\n",
    "    \n",
    "    SELECT * \n",
    "    \n",
    "    FROM movies\n",
    "    JOIN recommendations ON movies.movieId = recommendations.movieId\n",
    "    \n",
    "    ORDER BY rating desc\n",
    "    \n",
    "\"\"\"\n",
    "\n",
    "recommended_movies = spark.sql(query)\n",
    "recommended_movies.show()"
   ]
  },
  {
   "cell_type": "code",
   "execution_count": 32,
   "metadata": {},
   "outputs": [],
   "source": [
    "# 함수화 시켜보기\n",
    "def get_recommendations(user_id, num_recs):\n",
    "    user_df = spark.createDataFrame([user_id], IntegerType()).toDF(\"userId\")\n",
    "    user_recs_df = model.recommendForUserSubset(user_df, num_recs)\n",
    "    \n",
    "    recs_list = user_recs_df.collect()[0].recommendations\n",
    "    recs_df = spark.createDataFrame(recs_list)\n",
    "    \n",
    "    recommended_movies = recs_df.join(movies_df, \"movieId\")\n",
    "    return recommended_movies"
   ]
  },
  {
   "cell_type": "code",
   "execution_count": 33,
   "metadata": {},
   "outputs": [
    {
     "data": {
      "text/html": [
       "<div>\n",
       "<style scoped>\n",
       "    .dataframe tbody tr th:only-of-type {\n",
       "        vertical-align: middle;\n",
       "    }\n",
       "\n",
       "    .dataframe tbody tr th {\n",
       "        vertical-align: top;\n",
       "    }\n",
       "\n",
       "    .dataframe thead th {\n",
       "        text-align: right;\n",
       "    }\n",
       "</style>\n",
       "<table border=\"1\" class=\"dataframe\">\n",
       "  <thead>\n",
       "    <tr style=\"text-align: right;\">\n",
       "      <th></th>\n",
       "      <th>movieId</th>\n",
       "      <th>rating</th>\n",
       "      <th>title</th>\n",
       "      <th>genres</th>\n",
       "    </tr>\n",
       "  </thead>\n",
       "  <tbody>\n",
       "    <tr>\n",
       "      <th>0</th>\n",
       "      <td>177209</td>\n",
       "      <td>6.539916</td>\n",
       "      <td>Acı Aşk (2009)</td>\n",
       "      <td>Drama</td>\n",
       "    </tr>\n",
       "    <tr>\n",
       "      <th>1</th>\n",
       "      <td>199187</td>\n",
       "      <td>6.343500</td>\n",
       "      <td>Hoaxed (2019)</td>\n",
       "      <td>(no genres listed)</td>\n",
       "    </tr>\n",
       "    <tr>\n",
       "      <th>2</th>\n",
       "      <td>139036</td>\n",
       "      <td>6.314621</td>\n",
       "      <td>World Gone Wild (1988)</td>\n",
       "      <td>Action|Sci-Fi</td>\n",
       "    </tr>\n",
       "    <tr>\n",
       "      <th>3</th>\n",
       "      <td>180323</td>\n",
       "      <td>6.157449</td>\n",
       "      <td>The Magnificent Scoundrels (1991)</td>\n",
       "      <td>Comedy</td>\n",
       "    </tr>\n",
       "    <tr>\n",
       "      <th>4</th>\n",
       "      <td>151615</td>\n",
       "      <td>6.084562</td>\n",
       "      <td>Hello Stranger (2010)</td>\n",
       "      <td>Drama</td>\n",
       "    </tr>\n",
       "    <tr>\n",
       "      <th>5</th>\n",
       "      <td>173871</td>\n",
       "      <td>6.081365</td>\n",
       "      <td>I'll Take You There (1999)</td>\n",
       "      <td>Comedy|Drama|Romance</td>\n",
       "    </tr>\n",
       "    <tr>\n",
       "      <th>6</th>\n",
       "      <td>167932</td>\n",
       "      <td>6.077082</td>\n",
       "      <td>Eye of the Eagle (1987)</td>\n",
       "      <td>Action|Thriller</td>\n",
       "    </tr>\n",
       "    <tr>\n",
       "      <th>7</th>\n",
       "      <td>145871</td>\n",
       "      <td>6.077082</td>\n",
       "      <td>The Grasshopper (1967)</td>\n",
       "      <td>Comedy|Romance</td>\n",
       "    </tr>\n",
       "    <tr>\n",
       "      <th>8</th>\n",
       "      <td>204302</td>\n",
       "      <td>5.991782</td>\n",
       "      <td>Ek Ladki Ko Dekha Toh Aisa Laga (2019)</td>\n",
       "      <td>Comedy|Drama|Romance</td>\n",
       "    </tr>\n",
       "    <tr>\n",
       "      <th>9</th>\n",
       "      <td>175635</td>\n",
       "      <td>5.985383</td>\n",
       "      <td>American Teacher (2011)</td>\n",
       "      <td>Documentary</td>\n",
       "    </tr>\n",
       "  </tbody>\n",
       "</table>\n",
       "</div>"
      ],
      "text/plain": [
       "   movieId    rating                                   title  \\\n",
       "0   177209  6.539916                          Acı Aşk (2009)   \n",
       "1   199187  6.343500                           Hoaxed (2019)   \n",
       "2   139036  6.314621                  World Gone Wild (1988)   \n",
       "3   180323  6.157449       The Magnificent Scoundrels (1991)   \n",
       "4   151615  6.084562                   Hello Stranger (2010)   \n",
       "5   173871  6.081365              I'll Take You There (1999)   \n",
       "6   167932  6.077082                 Eye of the Eagle (1987)   \n",
       "7   145871  6.077082                  The Grasshopper (1967)   \n",
       "8   204302  5.991782  Ek Ladki Ko Dekha Toh Aisa Laga (2019)   \n",
       "9   175635  5.985383                 American Teacher (2011)   \n",
       "\n",
       "                 genres  \n",
       "0                 Drama  \n",
       "1    (no genres listed)  \n",
       "2         Action|Sci-Fi  \n",
       "3                Comedy  \n",
       "4                 Drama  \n",
       "5  Comedy|Drama|Romance  \n",
       "6       Action|Thriller  \n",
       "7        Comedy|Romance  \n",
       "8  Comedy|Drama|Romance  \n",
       "9           Documentary  "
      ]
     },
     "execution_count": 33,
     "metadata": {},
     "output_type": "execute_result"
    }
   ],
   "source": [
    "recs = get_recommendations(456, 10)\n",
    "recs.toPandas()"
   ]
  },
  {
   "cell_type": "code",
   "execution_count": 34,
   "metadata": {},
   "outputs": [],
   "source": [
    "spark.stop()"
   ]
  },
  {
   "cell_type": "code",
   "execution_count": null,
   "metadata": {},
   "outputs": [],
   "source": []
  }
 ],
 "metadata": {
  "kernelspec": {
   "display_name": "Python 3",
   "language": "python",
   "name": "python3"
  },
  "language_info": {
   "codemirror_mode": {
    "name": "ipython",
    "version": 3
   },
   "file_extension": ".py",
   "mimetype": "text/x-python",
   "name": "python",
   "nbconvert_exporter": "python",
   "pygments_lexer": "ipython3",
   "version": "3.8.5"
  }
 },
 "nbformat": 4,
 "nbformat_minor": 5
}
